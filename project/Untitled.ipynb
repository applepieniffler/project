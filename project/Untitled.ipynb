{
 "cells": [
  {
   "cell_type": "code",
   "execution_count": null,
   "id": "8587705d-923e-43f0-81c1-9829b0256a0a",
   "metadata": {},
   "outputs": [],
   "source": [
    "        self.label = Label(text=\"Selected time: \")\n",
    "        layout.add_widget(self.label)\n",
    "        \n",
    "        self.time_picker = TimePicker()\n",
    "        layout.add_widget(self.time_picker)\n",
    "        \n",
    "    def on_submit(self, instance):\n",
    "        selected_time = self.time_picker.time\n",
    "        self.label.text = f\"Selected time: {selected_time}\""
   ]
  }
 ],
 "metadata": {
  "kernelspec": {
   "display_name": "Python 3 (ipykernel)",
   "language": "python",
   "name": "python3"
  },
  "language_info": {
   "codemirror_mode": {
    "name": "ipython",
    "version": 3
   },
   "file_extension": ".py",
   "mimetype": "text/x-python",
   "name": "python",
   "nbconvert_exporter": "python",
   "pygments_lexer": "ipython3",
   "version": "3.10.9"
  }
 },
 "nbformat": 4,
 "nbformat_minor": 5
}
